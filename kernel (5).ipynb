{
  "cells": [
    {
      "metadata": {
        "_uuid": "8f2839f25d086af736a60e9eeb907d3b93b6e0e5",
        "_cell_guid": "b1076dfc-b9ad-4769-8c92-a6c4dae69d19",
        "trusted": true
      },
      "cell_type": "code",
      "source": "# This Python 3 environment comes with many helpful analytics libraries installed\n# It is defined by the kaggle/python docker image: https://github.com/kaggle/docker-python\n# For example, here's several helpful packages to load in \n\nimport numpy as np # linear algebra\nimport pandas as pd # data processing, CSV file I/O (e.g. pd.read_csv)\nimport seaborn as sns\nsns.set()\nimport matplotlib.pyplot as plt\n%matplotlib inline\nimport numpy as np\nimport matplotlib.style as style\nstyle.use('fivethirtyeight')\n# Treemap Ploting\nimport squarify\n# Matplotlib and Seaborn imports\nimport matplotlib\n \n\nimport os\nprint(os.listdir(\"../input\"))\n\nimport warnings\nwarnings.filterwarnings(\"ignore\", category=DeprecationWarning)\nwarnings.filterwarnings(\"ignore\", category=UserWarning)",
      "execution_count": null,
      "outputs": []
    },
    {
      "metadata": {
        "_uuid": "ceee541b12493f8444ae4b0a3b0760507c4afdef"
      },
      "cell_type": "markdown",
      "source": "**Analyzing Finalized Refugee Cases, Canada 2013-17**\n#### In this project, I will do a short analysis to try and answer the following questions about refugee claims in Canada from 2013 to 2017.\n1.  Has Canda been getting more or fewer refugees?  What is the total number of cases from 2013 to 2017? And what is the total per outcome ?\n2.  Has Canda been accepting more or fewer refugees?\n3.  What are the top ten countries that have the most refugees from 2013 to 2017  total and per year?\n5. Has the rejection rate been increasing or decreasing?\n7.  Draw an interactive world map showing countries and total number of finalized cases from 2013 to 2017..\n\nThe dataset conssists of six columns:\n1. Year :  Year in which the case was finalized.\n2. Quarter : Quarter in which case was finalized.\n3. Region : The regional office to which area the case has been assigned.\n4. Country of Persecution : Country of alleged prersecution as listed in the claim.\n5. Outcome: The general outcome of the finalized case (positive, negative or other). Positive:  \n                        * Positive: The  claimant is either a Convention refugee or a person in need of protection.\n                        * Negative: The claimant is not a Convention refugee or a person in need of protection. \n                        * Other: A non-merit or administrative decision to close the case was made. Examples include withdrawals, abandonments, deceased claimant, etc.\n6. Count : The number of cases.\n\nThis is an open data that is availble at the Government of Canada website\nhttps://open.canada.ca/data/en/dataset/6e47f705-71ed-41f0-8fd5-d1a8508a3b63\n"
    },
    {
      "metadata": {
        "_cell_guid": "79c7e3d0-c299-4dcb-8224-4455121ee9b0",
        "_uuid": "d629ff2d2480ee46fbb7e2d37f6b5fab8052498a",
        "trusted": true
      },
      "cell_type": "code",
      "source": "# Reading the dataset to pandas dataframe\nref_data = pd.read_csv(\"../input/rpd-open-data-2018-june (1).csv\")",
      "execution_count": null,
      "outputs": []
    },
    {
      "metadata": {
        "trusted": true,
        "_uuid": "f97b743db7dbb42cac4d37f077508aeaafeedae7"
      },
      "cell_type": "code",
      "source": "# A quick exploration of the data \nprint(ref_data.shape)\nref_data.head()\n",
      "execution_count": null,
      "outputs": []
    },
    {
      "metadata": {
        "trusted": true,
        "_uuid": "5d603e2f45d5712bf5421d3581b4b6d12800ecc5"
      },
      "cell_type": "markdown",
      "source": "We have 10733 rows and 6 columns in this dataset. These row represent the outcome for each country from 2013 to 2018."
    },
    {
      "metadata": {
        "trusted": true,
        "_uuid": "b82665e7275b39afece0d23447130f4833bc84b2"
      },
      "cell_type": "code",
      "source": "# Last 5 rows of the data\nref_data.tail()",
      "execution_count": null,
      "outputs": []
    },
    {
      "metadata": {
        "trusted": true,
        "_uuid": "091a06b4bd9e98b4159cf18fd8af2b0f6180ed6a"
      },
      "cell_type": "code",
      "source": "ref_data.info()",
      "execution_count": null,
      "outputs": []
    },
    {
      "metadata": {
        "_uuid": "5d2b9a2650edf7039e44018c692e8d970cc4d8a9"
      },
      "cell_type": "markdown",
      "source": "### The dataset has incomplete data for 2018, and some rows where the country is blank. I am goin to remove those rows to get a better analysis for each year."
    },
    {
      "metadata": {
        "trusted": true,
        "_uuid": "0cf82045c0d0f337705ae43abb5ee84152e7d6a8"
      },
      "cell_type": "code",
      "source": "ref_data = ref_data[ref_data['Year'] != 2018]\n# Remove rows with no country\nref_data = ref_data[ref_data[\"Country of Persecution\"] !='(blank)']\nref_data.tail()",
      "execution_count": null,
      "outputs": []
    },
    {
      "metadata": {
        "_uuid": "80f60ea04ccd779cf35b073b898d3d50d5e3dae6"
      },
      "cell_type": "markdown",
      "source": "### Let's see the total number of finalized cases per year\n"
    },
    {
      "metadata": {
        "trusted": true,
        "_uuid": "99251a15a80e4921497bb474d1712f490e1f983f"
      },
      "cell_type": "code",
      "source": "# Grouping the dataset by year and total count\ntotal_cases_per_year = ref_data.groupby(\"Year\")[\"Count\"].sum()\n\n# Creating a graph to plot the data\ngraph = total_cases_per_year.plot.bar(figsize=(10,7), title = 'Total Number of Finalized Cases Per Year', rot = 60 )\ngraph.xaxis.label.set_visible(False)\ngraph.yaxis.label.set_visible(False)\nplt.grid(False)\ngraph.text(x = -1, y = -3350, s = '   ©TAHA ALAWADHI                                                    Source: Refugee Protection Division (RPD)   ',\n    fontsize = 14, color = '#f0f0f0', backgroundcolor = 'grey')\n\n# setting individual bar lables using above list\nfor i in graph.patches:\n    # get_x pulls left or right; get_height pushes up or down\n    graph.text(i.get_x()+.10, i.get_height()-1000, \\\n            str(round((i.get_height()), 2)), fontsize=14,\n                color='white')    \n\nplt.show()",
      "execution_count": null,
      "outputs": []
    },
    {
      "metadata": {
        "_uuid": "eee0df6e495a7f5af545eb85ae122f9a4e5b139b"
      },
      "cell_type": "markdown",
      "source": "### It seems that in 2017 the total number of finalized cases if more than previous years which could mean that there is an increase in refugees to Canada.\n### Let's check the total number of cases by outcome from 2013-2017"
    },
    {
      "metadata": {
        "trusted": true,
        "_uuid": "1b05039b26797e6dd712c68deed67f79a1257284"
      },
      "cell_type": "code",
      "source": "# Group the dataset by the outcome and total count\ntotal_by_outcome_per_year = ref_data.groupby(\"Outcome\")[\"Count\"].sum()\n\n# Changing raph style \nsns.set()\n\n# Creating a graph to plot the data\ngraph = total_by_outcome_per_year.plot.barh(figsize=(7,5), title = 'Total Finalized Cases 2013-2017' )\ngraph.xaxis.label.set_visible(False)\ngraph.yaxis.label.set_visible(False)\n#plt.grid(False)\ngraph.text(x = -7400, y = -.9, s = '   ©TAHA ALAWADHI                                                            Source: Refugee Protection Division (RPD)   ',\n    fontsize = 10, color = '#f0f0f0', backgroundcolor = 'grey')\n\n# set individual bar lables using above list\nfor i in graph.patches:\n    # get_width pulls left or right; get_y pushes up or down\n    graph.text(i.get_width()-6000, i.get_y()+.25, \\\n            str(round((i.get_width()), 2)), fontsize=12,\ncolor='white')\n    \n \n\nplt.show()",
      "execution_count": null,
      "outputs": []
    },
    {
      "metadata": {
        "_uuid": "f4d25b5717b586a2bfec9a5096a5bd62e3099b59"
      },
      "cell_type": "markdown",
      "source": "\n### What about totaly by outcome per year?"
    },
    {
      "metadata": {
        "trusted": true,
        "_uuid": "b32d0ece93bd5fe34a448a13d0cf1bb22141efdc"
      },
      "cell_type": "code",
      "source": "# Grouping the data by year and outcome \ntotal_outcome_per_year = ref_data.pivot_table(index='Year',columns='Outcome',aggfunc=sum)\n\n# Changing style\nstyle.use('fivethirtyeight')\n\n#creating the graph\ngraph = total_outcome_per_year.plot.bar(figsize=(10,7), title = 'Total Finalized Cases by Outcome per Year', rot = 45)\ngraph.xaxis.label.set_visible(False)\ngraph.yaxis.label.set_visible(False)\n#plt.grid(False)\ngraph.legend(['Negative','Other','Positive'], loc = 'best')\ngraph.text(x = -.1, y = -1900, s = '   ©TAHA ALAWADHI                                                            Source: Refugee Protection Division (RPD)   ',\n    fontsize = 10, color = '#f0f0f0', backgroundcolor = 'grey')\nplt.show()",
      "execution_count": null,
      "outputs": []
    },
    {
      "metadata": {
        "_uuid": "6a609564b2b5bba24a953f6573cb4735fddbe1ee"
      },
      "cell_type": "markdown",
      "source": "### Plotting line chart for total finalized cases by outcome per year"
    },
    {
      "metadata": {
        "trusted": true,
        "_uuid": "17924cedd645af0e11d1b84dc9203436df52535a"
      },
      "cell_type": "code",
      "source": "style.use('fivethirtyeight')\ngraph = total_outcome_per_year.plot( figsize=(10,7), title = \"Outcome Trend Per Year\")\ngraph.tick_params(axis = 'both', which = 'major', labelsize = 15)\ngraph.xaxis.label.set_visible(False)\ngraph.legend(['Negative','Other','Positive'], loc = 'best', prop={'size': 12})\ngraph.text(x = 2012.3, y =-550,\n    s = '   ©TAHA ALAWADHI                                                      Source: Refugee Protection Division (RPD)   ',\n    fontsize = 14, color = '#f0f0f0', backgroundcolor = 'grey')\nplt.show()",
      "execution_count": null,
      "outputs": []
    },
    {
      "metadata": {
        "_uuid": "57a71afa4337918e7a43276952a0c850382d6632"
      },
      "cell_type": "markdown",
      "source": "### It seems that Canada has been accepting more than rejecting refugee cases except for 2013, and the number increased drematiclay  from 2015. This could be due to the political change in 2015 where the Liberals took control or a change on the country of alleged presecution."
    },
    {
      "metadata": {
        "_uuid": "58bbe96dd817c7bfa1a1f9b26cf15e090f49db0a"
      },
      "cell_type": "markdown",
      "source": "### Let's what are the top ten countries that has the most refugees from 2013 to 2017"
    },
    {
      "metadata": {
        "trusted": true,
        "_uuid": "1cf00b1b42ed1036fa7cc8542c05b445fbd21c90"
      },
      "cell_type": "code",
      "source": "# Creatin a list for the countries and total number of cases per country\ncountries_total = []\n\n# Countries list\ncountries = list(ref_data['Country of Persecution'].unique())\n\n# Looping through he dataset and add countries with its total to the list\nfor country in countries:\n    country_positive = ref_data[(ref_data['Country of Persecution'] == country) & (ref_data['Outcome'] == 'Positive')]['Count'].sum()\n    country_negative = ref_data[(ref_data['Country of Persecution'] == country) & (ref_data['Outcome'] == 'Negative')]['Count'].sum()\n    country_other = ref_data[(ref_data['Country of Persecution'] == country) & (ref_data['Outcome'] == 'Other')]['Count'].sum()\n    total = country_positive + country_negative + country_other\n    countries_total.append([country, country_positive, country_negative, country_other, total ])\n\n# Converting the list to a dataframe, sorting by total and assinging the top ten countries to another dataframe\ncountries_total_df = pd.DataFrame(countries_total, columns=['Country','Positive', 'Negative', 'Other', 'Total'])\ntop_ten_countries = countries_total_df.sort_values(by='Total', ascending=False, inplace=True)\ntop_ten_countries = countries_total_df.drop('Total', axis = 1)[:10]\n",
      "execution_count": null,
      "outputs": []
    },
    {
      "metadata": {
        "trusted": true,
        "_uuid": "48d83165a01ed41d8ede8a160d12cefce5f22b26"
      },
      "cell_type": "code",
      "source": "# New dataframe, top ten countries and the total\ntop_ten_countries_total = top_ten_countries.copy() \ntop_ten_countries_total['Total'] = top_ten_countries['Positive'] + top_ten_countries['Negative'] + top_ten_countries['Other']\n\n#Utilise matplotlib to scale our goal numbers between the min and max, then assign this scale to our values.\nnorm = matplotlib.colors.Normalize(vmin=min(top_ten_countries_total['Total']), vmax=max(top_ten_countries_total['Total']))\n\n#Create our plot and resize it.\nfig = plt.gcf()\nax = fig.add_subplot()\nfig.set_size_inches(16, 4.5)\n\n# Creating label\nlabel = top_ten_countries['Country'] + \" (\" + top_ten_countries_total['Total'].astype(\"str\")+ \")\"\n\n#Use squarify to plot our data, label it and add colours. \nsquarify.plot(label = label,sizes = top_ten_countries_total['Total'],  alpha = .6)\nplt.title(\"Top Ten Countries Wih Total Number of Refugees 2013 -2017\",fontsize = 16)\n\n#Remove our axes and display the plot\nplt.axis('off')\nplt.show()",
      "execution_count": null,
      "outputs": []
    },
    {
      "metadata": {
        "_uuid": "718728cb7c99bc8a4e58702880177b003aa577fd"
      },
      "cell_type": "markdown",
      "source": "#### That is very interesting, Hungary one of the European Union countries is on second place. Let's check top ten countries by outcome"
    },
    {
      "metadata": {
        "trusted": true,
        "_uuid": "bbc01c3cc311d76af2732763b7f273b8480d2915"
      },
      "cell_type": "code",
      "source": "# Plotting the result\ntop_ten_countries.plot.bar(figsize=(12,7),rot=0)\n#graph.xticks(top_ten_countries['Countries'])\nind = np.arange(10)\n#style.use('fivethirtyeight')\nsns.set()\nplt.xticks(ind, top_ten_countries[\"Country\"])\nplt.grid(False)\nplt.text(x = -1, y =-350,\n    s = '   ©TAHA ALAWADHI                                                                                                      Source: Refugee Protection Division (RPD)   ',\n    fontsize = 12, color = '#f0f0f0', backgroundcolor = 'grey')\nplt.show()",
      "execution_count": null,
      "outputs": []
    },
    {
      "metadata": {
        "_uuid": "9d7c9e98f3dd083489a4c27487329bc993925a5b"
      },
      "cell_type": "markdown",
      "source": "### Although China and Hungary in the top of the list, the number of negative outcoms is very high for them, that makes sense as there is no armed conflict in these two countries. On the contrary, we see that the number of positive outcomes for Syria is very high due to the civil war there.\n"
    },
    {
      "metadata": {
        "trusted": true,
        "_uuid": "ba31771c88e0ad5556cbfacd00f98b1bc3247742"
      },
      "cell_type": "code",
      "source": "ref_data['Region'].unique()",
      "execution_count": null,
      "outputs": []
    },
    {
      "metadata": {
        "trusted": true,
        "_uuid": "4df2424fa12e408f0fbeed9d1ef0f32e4bc5b87e"
      },
      "cell_type": "code",
      "source": "%%HTML\n<div class='tableauPlaceholder' id='viz1542593102600' style='position: relative'><noscript><a href='#'><img alt=' ' src='https:&#47;&#47;public.tableau.com&#47;static&#47;images&#47;Fi&#47;FinalizedRefugeeCasesCanada2013-2017&#47;Sheet2&#47;1_rss.png' style='border: none' /></a></noscript><object class='tableauViz'  style='display:none;'><param name='host_url' value='https%3A%2F%2Fpublic.tableau.com%2F' /> <param name='embed_code_version' value='3' /> <param name='site_root' value='' /><param name='name' value='FinalizedRefugeeCasesCanada2013-2017&#47;Sheet2' /><param name='tabs' value='no' /><param name='toolbar' value='yes' /><param name='static_image' value='https:&#47;&#47;public.tableau.com&#47;static&#47;images&#47;Fi&#47;FinalizedRefugeeCasesCanada2013-2017&#47;Sheet2&#47;1.png' /> <param name='animate_transition' value='yes' /><param name='display_static_image' value='yes' /><param name='display_spinner' value='yes' /><param name='display_overlay' value='yes' /><param name='display_count' value='yes' /><param name='filter' value='publish=yes' /></object></div>                <script type='text/javascript'>                    var divElement = document.getElementById('viz1542593102600');                    var vizElement = divElement.getElementsByTagName('object')[0];                    vizElement.style.width='100%';vizElement.style.height=(divElement.offsetWidth*0.75)+'px';                    var scriptElement = document.createElement('script');                    scriptElement.src = 'https://public.tableau.com/javascripts/api/viz_v1.js';                    vizElement.parentNode.insertBefore(scriptElement, vizElement);                </script>",
      "execution_count": null,
      "outputs": []
    },
    {
      "metadata": {
        "_uuid": "cf6fcc28bb932d409143378926e5f35db4e42596"
      },
      "cell_type": "markdown",
      "source": "### Summary of Results\n#### In this short analysis, we found out that number of cases decreased in 2015 and 2016 than increased in 2017, I would assume this is a result to the presidential elections outcome in the state where the new administration is not welcoming asylum seekers which makes Canada a better option for asylum seekers.\n#### When we checked the total number of finalized cases, we found that Canada is accepting more the rejecting asylum seekers especial in the last three years, which means Canada is a welcoming country for refugees. I would assume this is due to the liberal government which was elected in 2015. \n#### Finally, we surprisingly found that Hungary is second on the top ten countries even though it is a European Union country with no armed conflicts. China is first, but the rejection rate for these two countries is very high. In the other hand countries like Syria and Iraq has a very high total positive outcome which make sense as the people of two countries are leaving due to the civil war and political unrest. \n"
    },
    {
      "metadata": {
        "trusted": true,
        "_uuid": "d71b15e44031ad10718f23e2bdc1c74a6d862270"
      },
      "cell_type": "code",
      "source": "",
      "execution_count": null,
      "outputs": []
    }
  ],
  "metadata": {
    "kernelspec": {
      "display_name": "Python 3",
      "language": "python",
      "name": "python3"
    },
    "language_info": {
      "name": "python",
      "version": "3.6.6",
      "mimetype": "text/x-python",
      "codemirror_mode": {
        "name": "ipython",
        "version": 3
      },
      "pygments_lexer": "ipython3",
      "nbconvert_exporter": "python",
      "file_extension": ".py"
    }
  },
  "nbformat": 4,
  "nbformat_minor": 1
}